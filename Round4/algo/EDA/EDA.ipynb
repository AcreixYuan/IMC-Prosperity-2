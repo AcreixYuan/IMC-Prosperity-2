{
 "cells": [
  {
   "cell_type": "code",
   "execution_count": 24,
   "id": "d1e85789-1bb8-4a63-9408-d7512a234d52",
   "metadata": {},
   "outputs": [],
   "source": [
    "import pandas as pd\n",
    "import numpy as np\n",
    "import statsmodels.api as sm\n",
    "from statsmodels.tsa.stattools import grangercausalitytests"
   ]
  },
  {
   "cell_type": "code",
   "execution_count": 20,
   "id": "5eb5f59e-a01e-4359-8b97-1cc6afb8497e",
   "metadata": {},
   "outputs": [
    {
     "data": {
      "text/html": [
       "<div>\n",
       "<style scoped>\n",
       "    .dataframe tbody tr th:only-of-type {\n",
       "        vertical-align: middle;\n",
       "    }\n",
       "\n",
       "    .dataframe tbody tr th {\n",
       "        vertical-align: top;\n",
       "    }\n",
       "\n",
       "    .dataframe thead th {\n",
       "        text-align: right;\n",
       "    }\n",
       "</style>\n",
       "<table border=\"1\" class=\"dataframe\">\n",
       "  <thead>\n",
       "    <tr style=\"text-align: right;\">\n",
       "      <th></th>\n",
       "      <th>day</th>\n",
       "      <th>timestamp</th>\n",
       "      <th>product</th>\n",
       "      <th>bid_price_1</th>\n",
       "      <th>bid_volume_1</th>\n",
       "      <th>bid_price_2</th>\n",
       "      <th>bid_volume_2</th>\n",
       "      <th>bid_price_3</th>\n",
       "      <th>bid_volume_3</th>\n",
       "      <th>ask_price_1</th>\n",
       "      <th>ask_volume_1</th>\n",
       "      <th>ask_price_2</th>\n",
       "      <th>ask_volume_2</th>\n",
       "      <th>ask_price_3</th>\n",
       "      <th>ask_volume_3</th>\n",
       "      <th>mid_price</th>\n",
       "      <th>profit_and_loss</th>\n",
       "    </tr>\n",
       "  </thead>\n",
       "  <tbody>\n",
       "    <tr>\n",
       "      <th>0</th>\n",
       "      <td>1</td>\n",
       "      <td>0</td>\n",
       "      <td>COCONUT</td>\n",
       "      <td>9999</td>\n",
       "      <td>200</td>\n",
       "      <td>NaN</td>\n",
       "      <td>NaN</td>\n",
       "      <td>NaN</td>\n",
       "      <td>NaN</td>\n",
       "      <td>10001</td>\n",
       "      <td>200</td>\n",
       "      <td>NaN</td>\n",
       "      <td>NaN</td>\n",
       "      <td>NaN</td>\n",
       "      <td>NaN</td>\n",
       "      <td>10000.0</td>\n",
       "      <td>0.0</td>\n",
       "    </tr>\n",
       "    <tr>\n",
       "      <th>1</th>\n",
       "      <td>1</td>\n",
       "      <td>0</td>\n",
       "      <td>COCONUT_COUPON</td>\n",
       "      <td>637</td>\n",
       "      <td>39</td>\n",
       "      <td>NaN</td>\n",
       "      <td>NaN</td>\n",
       "      <td>NaN</td>\n",
       "      <td>NaN</td>\n",
       "      <td>638</td>\n",
       "      <td>39</td>\n",
       "      <td>NaN</td>\n",
       "      <td>NaN</td>\n",
       "      <td>NaN</td>\n",
       "      <td>NaN</td>\n",
       "      <td>637.5</td>\n",
       "      <td>0.0</td>\n",
       "    </tr>\n",
       "    <tr>\n",
       "      <th>2</th>\n",
       "      <td>1</td>\n",
       "      <td>100</td>\n",
       "      <td>COCONUT</td>\n",
       "      <td>9999</td>\n",
       "      <td>104</td>\n",
       "      <td>9998.0</td>\n",
       "      <td>44.0</td>\n",
       "      <td>NaN</td>\n",
       "      <td>NaN</td>\n",
       "      <td>10000</td>\n",
       "      <td>104</td>\n",
       "      <td>10001.0</td>\n",
       "      <td>44.0</td>\n",
       "      <td>NaN</td>\n",
       "      <td>NaN</td>\n",
       "      <td>9999.5</td>\n",
       "      <td>0.0</td>\n",
       "    </tr>\n",
       "    <tr>\n",
       "      <th>3</th>\n",
       "      <td>1</td>\n",
       "      <td>100</td>\n",
       "      <td>COCONUT_COUPON</td>\n",
       "      <td>637</td>\n",
       "      <td>33</td>\n",
       "      <td>NaN</td>\n",
       "      <td>NaN</td>\n",
       "      <td>NaN</td>\n",
       "      <td>NaN</td>\n",
       "      <td>638</td>\n",
       "      <td>33</td>\n",
       "      <td>NaN</td>\n",
       "      <td>NaN</td>\n",
       "      <td>NaN</td>\n",
       "      <td>NaN</td>\n",
       "      <td>637.5</td>\n",
       "      <td>0.0</td>\n",
       "    </tr>\n",
       "    <tr>\n",
       "      <th>4</th>\n",
       "      <td>1</td>\n",
       "      <td>200</td>\n",
       "      <td>COCONUT</td>\n",
       "      <td>9998</td>\n",
       "      <td>133</td>\n",
       "      <td>9997.0</td>\n",
       "      <td>62.0</td>\n",
       "      <td>NaN</td>\n",
       "      <td>NaN</td>\n",
       "      <td>9999</td>\n",
       "      <td>133</td>\n",
       "      <td>10000.0</td>\n",
       "      <td>62.0</td>\n",
       "      <td>NaN</td>\n",
       "      <td>NaN</td>\n",
       "      <td>9998.5</td>\n",
       "      <td>0.0</td>\n",
       "    </tr>\n",
       "  </tbody>\n",
       "</table>\n",
       "</div>"
      ],
      "text/plain": [
       "   day  timestamp         product  bid_price_1  bid_volume_1  bid_price_2  \\\n",
       "0    1          0         COCONUT         9999           200          NaN   \n",
       "1    1          0  COCONUT_COUPON          637            39          NaN   \n",
       "2    1        100         COCONUT         9999           104       9998.0   \n",
       "3    1        100  COCONUT_COUPON          637            33          NaN   \n",
       "4    1        200         COCONUT         9998           133       9997.0   \n",
       "\n",
       "   bid_volume_2  bid_price_3  bid_volume_3  ask_price_1  ask_volume_1  \\\n",
       "0           NaN          NaN           NaN        10001           200   \n",
       "1           NaN          NaN           NaN          638            39   \n",
       "2          44.0          NaN           NaN        10000           104   \n",
       "3           NaN          NaN           NaN          638            33   \n",
       "4          62.0          NaN           NaN         9999           133   \n",
       "\n",
       "   ask_price_2  ask_volume_2  ask_price_3  ask_volume_3  mid_price  \\\n",
       "0          NaN           NaN          NaN           NaN    10000.0   \n",
       "1          NaN           NaN          NaN           NaN      637.5   \n",
       "2      10001.0          44.0          NaN           NaN     9999.5   \n",
       "3          NaN           NaN          NaN           NaN      637.5   \n",
       "4      10000.0          62.0          NaN           NaN     9998.5   \n",
       "\n",
       "   profit_and_loss  \n",
       "0              0.0  \n",
       "1              0.0  \n",
       "2              0.0  \n",
       "3              0.0  \n",
       "4              0.0  "
      ]
     },
     "execution_count": 20,
     "metadata": {},
     "output_type": "execute_result"
    }
   ],
   "source": [
    "df = pd.read_csv('data/prices_round_4_day_1.csv', delimiter=';')\n",
    "df.head(5)"
   ]
  },
  {
   "cell_type": "code",
   "execution_count": 21,
   "id": "b08d620b-b701-4a67-a492-1cabd74bd1cc",
   "metadata": {},
   "outputs": [],
   "source": [
    "coconut = df[df[\"product\"]==\"COCONUT\"]\n",
    "coconut_coupon = df[df[\"product\"]==\"COCONUT_COUPON\"]"
   ]
  },
  {
   "cell_type": "code",
   "execution_count": 19,
   "id": "9aea971b-42d6-49bf-9917-43152e1b0a3b",
   "metadata": {},
   "outputs": [
    {
     "data": {
      "text/plain": [
       "0         9999\n",
       "2         9999\n",
       "4         9998\n",
       "7         9999\n",
       "8         9998\n",
       "         ...  \n",
       "19991    10135\n",
       "19993    10136\n",
       "19994    10134\n",
       "19997    10134\n",
       "19999    10134\n",
       "Name: bid_price_1, Length: 10000, dtype: int64"
      ]
     },
     "execution_count": 19,
     "metadata": {},
     "output_type": "execute_result"
    }
   ],
   "source": [
    "coconut[\"bid_price_1\"]"
   ]
  },
  {
   "cell_type": "code",
   "execution_count": 22,
   "id": "71b17745-eee0-45fb-ba85-d10b8937794b",
   "metadata": {},
   "outputs": [
    {
     "data": {
      "text/plain": [
       "1        637\n",
       "3        637\n",
       "5        637\n",
       "6        638\n",
       "9        637\n",
       "        ... \n",
       "19990    681\n",
       "19992    682\n",
       "19995    681\n",
       "19996    681\n",
       "19998    682\n",
       "Name: bid_price_1, Length: 10000, dtype: int64"
      ]
     },
     "execution_count": 22,
     "metadata": {},
     "output_type": "execute_result"
    }
   ],
   "source": [
    "coconut_coupon[\"bid_price_1\"]"
   ]
  },
  {
   "cell_type": "code",
   "execution_count": 25,
   "id": "607567b1-891e-4e73-bbad-eb80bdf49f16",
   "metadata": {},
   "outputs": [],
   "source": [
    "data = np.column_stack([coconut[\"bid_price_1\"], coconut_coupon[\"bid_price_1\"]])"
   ]
  },
  {
   "cell_type": "code",
   "execution_count": 26,
   "id": "45ae64ff-b664-4519-8224-eddf793d3272",
   "metadata": {},
   "outputs": [
    {
     "name": "stdout",
     "output_type": "stream",
     "text": [
      "\n",
      "Granger Causality\n",
      "number of lags (no zero) 1\n",
      "ssr based F test:         F=2.0911  , p=0.1482  , df_denom=9996, df_num=1\n",
      "ssr based chi2 test:   chi2=2.0917  , p=0.1481  , df=1\n",
      "likelihood ratio test: chi2=2.0915  , p=0.1481  , df=1\n",
      "parameter F test:         F=2.0911  , p=0.1482  , df_denom=9996, df_num=1\n",
      "\n",
      "Granger Causality\n",
      "number of lags (no zero) 2\n",
      "ssr based F test:         F=4.2868  , p=0.0138  , df_denom=9993, df_num=2\n",
      "ssr based chi2 test:   chi2=8.5779  , p=0.0137  , df=2\n",
      "likelihood ratio test: chi2=8.5742  , p=0.0137  , df=2\n",
      "parameter F test:         F=4.2868  , p=0.0138  , df_denom=9993, df_num=2\n",
      "\n",
      "Granger Causality\n",
      "number of lags (no zero) 3\n",
      "ssr based F test:         F=3.6263  , p=0.0124  , df_denom=9990, df_num=3\n",
      "ssr based chi2 test:   chi2=10.8865 , p=0.0124  , df=3\n",
      "likelihood ratio test: chi2=10.8806 , p=0.0124  , df=3\n",
      "parameter F test:         F=3.6263  , p=0.0124  , df_denom=9990, df_num=3\n",
      "\n",
      "Granger Causality\n",
      "number of lags (no zero) 4\n",
      "ssr based F test:         F=2.7653  , p=0.0259  , df_denom=9987, df_num=4\n",
      "ssr based chi2 test:   chi2=11.0712 , p=0.0258  , df=4\n",
      "likelihood ratio test: chi2=11.0651 , p=0.0258  , df=4\n",
      "parameter F test:         F=2.7653  , p=0.0259  , df_denom=9987, df_num=4\n"
     ]
    },
    {
     "name": "stderr",
     "output_type": "stream",
     "text": [
      "/Users/juliusgruber/anaconda3/envs/machinelearning/lib/python3.11/site-packages/statsmodels/tsa/stattools.py:1488: FutureWarning: verbose is deprecated since functions should not print results\n",
      "  warnings.warn(\n"
     ]
    }
   ],
   "source": [
    "results = grangercausalitytests(data, 4, verbose=True)"
   ]
  },
  {
   "cell_type": "code",
   "execution_count": null,
   "id": "47dbc799-9ae7-4036-8451-38765709d43d",
   "metadata": {},
   "outputs": [],
   "source": []
  }
 ],
 "metadata": {
  "kernelspec": {
   "display_name": "Python 3 (ipykernel)",
   "language": "python",
   "name": "python3"
  },
  "language_info": {
   "codemirror_mode": {
    "name": "ipython",
    "version": 3
   },
   "file_extension": ".py",
   "mimetype": "text/x-python",
   "name": "python",
   "nbconvert_exporter": "python",
   "pygments_lexer": "ipython3",
   "version": "3.11.8"
  }
 },
 "nbformat": 4,
 "nbformat_minor": 5
}
