{
 "cells": [
  {
   "cell_type": "code",
   "execution_count": null,
   "metadata": {},
   "outputs": [],
   "source": [
    "import pandas as pd\n",
    "import numpy as np\n",
    "import matplotlib.pyplot as plt\n"
   ]
  },
  {
   "cell_type": "code",
   "execution_count": null,
   "metadata": {},
   "outputs": [],
   "source": [
    "orderbook = pd.read_csv('orderbook.csv',index_col=0)"
   ]
  },
  {
   "cell_type": "code",
   "execution_count": null,
   "metadata": {},
   "outputs": [],
   "source": [
    "orderbook[orderbook['symbol']=='PEARLS'].head(8)"
   ]
  },
  {
   "cell_type": "code",
   "execution_count": null,
   "metadata": {},
   "outputs": [],
   "source": [
    "orderbook_pearl = orderbook[orderbook['symbol']=='PEARLS']\n",
    "orderbook_banana = orderbook[orderbook['symbol']=='BANANAS']"
   ]
  },
  {
   "cell_type": "code",
   "execution_count": null,
   "metadata": {},
   "outputs": [],
   "source": [
    "def plot_orderbook(df):\n",
    "    for symbol in df['symbol'].unique():\n",
    "        df_symbol = df[df['symbol'] == symbol]\n",
    "        fig, ax = plt.subplots(figsize=(30, 12))\n",
    "        # ax.plot(df_symbol['timestamp'], df_symbol['trade_price'],'blue', label='trade_price')\n",
    "        ax.plot(df_symbol['timestamp'], df_symbol['bid_1'], 'green', label='best_bid_1')\n",
    "        ax.plot(df_symbol['timestamp'], df_symbol['ask_1'], 'red', label='best_ask_1')\n",
    "        ax.plot(df_symbol['timestamp'],df_symbol['mid_price'],'black',label='mid_price')\n",
    "        # cancel scientific notation for the y axis\n",
    "        ax.get_yaxis().get_major_formatter().set_scientific(False)\n",
    "        ax.set_title('Orderbook for ' + symbol)\n",
    "        plt.show()\n"
   ]
  },
  {
   "cell_type": "code",
   "execution_count": null,
   "metadata": {},
   "outputs": [],
   "source": [
    "orderbook_pearl['mid_price'] = orderbook_pearl.apply( lambda x: (x['bid_1'] + x['ask_1'])/2, axis=1)\n",
    "orderbook_banana['mid_price'] = orderbook_banana.apply( lambda x: (x['bid_1'] + x['ask_1'])/2, axis=1)"
   ]
  },
  {
   "cell_type": "code",
   "execution_count": null,
   "metadata": {},
   "outputs": [],
   "source": [
    "pearl_mid_price = orderbook_pearl['mid_price']\n",
    "banana_mid_price = orderbook_banana['mid_price']"
   ]
  },
  {
   "cell_type": "code",
   "execution_count": null,
   "metadata": {},
   "outputs": [],
   "source": [
    "plot_orderbook(orderbook_pearl)\n",
    "plot_orderbook(orderbook_banana)"
   ]
  },
  {
   "cell_type": "markdown",
   "metadata": {},
   "source": [
    "Visualize the orderbook of the whole sample period"
   ]
  },
  {
   "cell_type": "code",
   "execution_count": null,
   "metadata": {},
   "outputs": [],
   "source": [
    "pearl_mid_price.hist(bins=20)\n",
    "plt.title('Pearl Mid Price')\n",
    "plt.show()\n",
    "pearl_mid_price_ret = pearl_mid_price.pct_change()\n",
    "pearl_mid_price_ret.hist(bins=20)\n",
    "plt.title('Pearl Mid Price Return')\n",
    "plt.show()"
   ]
  },
  {
   "cell_type": "code",
   "execution_count": null,
   "metadata": {},
   "outputs": [],
   "source": [
    "banana_mid_price.hist(bins = 20)\n",
    "plt.title('Banana Mid Price')\n",
    "plt.show()\n",
    "banana_mid_price_ret = banana_mid_price.pct_change()\n",
    "banana_mid_price_ret.hist(bins=20)\n",
    "plt.title('Banana Mid Price Return')"
   ]
  },
  {
   "cell_type": "code",
   "execution_count": null,
   "metadata": {},
   "outputs": [],
   "source": [
    "n = len(pearl_mid_price)\n",
    "print(\"the std of the mid price of pearl is %.4f(sampling the first 75%% of the data)\" % (pearl_mid_price[:int(n*0.75)].std()))\n",
    "print(\"the std of the mid price of banana is %.4f(sampling the last 25%% of the data)\" % (banana_mid_price[int(n*0.75):].std()))\n",
    "print(\"the std of the mid price of pearl is %.4f(sampling the whole data)\" % (pearl_mid_price.std()))"
   ]
  },
  {
   "cell_type": "markdown",
   "metadata": {},
   "source": [
    "We use $\\sigma = 1.5$ as the stoikov model parameter.\n"
   ]
  },
  {
   "cell_type": "code",
   "execution_count": null,
   "metadata": {},
   "outputs": [],
   "source": [
    "n_2 = len(banana_mid_price)\n",
    "print(\"The std of the mid price of banana is :%.4f (sampling the first 75%%)\"%banana_mid_price[:int(n_2*0.75)].std())\n",
    "print(\"The std of the mid price of banana is :%.4f (sampling the last 25%%)\"%banana_mid_price[int(n_2*0.75):].std())\n",
    "print(\"The std of the mid price of banana is :%.4f (sampling all)\"%banana_mid_price.std())"
   ]
  },
  {
   "cell_type": "markdown",
   "metadata": {},
   "source": [
    "We use $\\sigma_2 = 5.5$ as the stoikov model parameter for the second underlying: banana."
   ]
  },
  {
   "cell_type": "code",
   "execution_count": null,
   "metadata": {},
   "outputs": [],
   "source": [
    "n = len(pearl_mid_price_ret)\n",
    "print(\"the std of the mid price return of pearl is %.4f(sampling the first 75%% of the data)\" % (pearl_mid_price_ret[:int(n*0.75)].std()))\n",
    "print(\"the std of the mid price return of banana is %.4f(sampling the last 25%% of the data)\" % (banana_mid_price_ret[int(n*0.75):].std()))\n",
    "print(\"the std of the mid price return of pearl is %.4f(sampling the whole data)\" % (pearl_mid_price_ret.std()))"
   ]
  },
  {
   "cell_type": "code",
   "execution_count": null,
   "metadata": {},
   "outputs": [],
   "source": [
    "n_2 = len(banana_mid_price_ret)\n",
    "print(\"The std of the mid price return of banana is :%.4f (sampling the first 75%%)\"%banana_mid_price_ret[:int(n_2*0.75)].std())\n",
    "print(\"The std of the mid price return of banana is :%.4f (sampling the last 25%%)\"%banana_mid_price_ret[int(n_2*0.75):].std())\n",
    "print(\"The std of the mid price return of banana is :%.4f (sampling all)\"%banana_mid_price_ret.std())"
   ]
  },
  {
   "cell_type": "code",
   "execution_count": null,
   "metadata": {},
   "outputs": [],
   "source": [
    "# plot QQ plot in python for the pearl_mid_price_ret\n",
    "import scipy.stats as stats\n",
    "import pylab\n",
    "stats.probplot(pearl_mid_price_ret.dropna(), dist=\"norm\", plot=pylab)"
   ]
  },
  {
   "cell_type": "code",
   "execution_count": null,
   "metadata": {},
   "outputs": [],
   "source": [
    "# plot QQ plot in python for the banana_mid_price_ret\n",
    "\n",
    "stats.probplot(banana_mid_price_ret.dropna(), dist=\"norm\", plot=pylab)"
   ]
  },
  {
   "cell_type": "code",
   "execution_count": null,
   "metadata": {},
   "outputs": [],
   "source": [
    "# plot QQ plot for the mid prices of pearl and banana\n",
    "stats.probplot(pearl_mid_price, dist=\"norm\", plot=pylab)\n"
   ]
  },
  {
   "cell_type": "code",
   "execution_count": null,
   "metadata": {},
   "outputs": [],
   "source": [
    "\n",
    "stats.probplot(banana_mid_price, dist=\"norm\", plot=pylab)"
   ]
  },
  {
   "cell_type": "code",
   "execution_count": null,
   "metadata": {},
   "outputs": [],
   "source": []
  }
 ],
 "metadata": {
  "kernelspec": {
   "display_name": "Python 3 (ipykernel)",
   "language": "python",
   "name": "python3"
  },
  "language_info": {
   "codemirror_mode": {
    "name": "ipython",
    "version": 3
   },
   "file_extension": ".py",
   "mimetype": "text/x-python",
   "name": "python",
   "nbconvert_exporter": "python",
   "pygments_lexer": "ipython3",
   "version": "3.11.0"
  },
  "vscode": {
   "interpreter": {
    "hash": "1c36388575b4af4078bf582fc692df6e05af97bddd1719df59b8ef365904c641"
   }
  }
 },
 "nbformat": 4,
 "nbformat_minor": 2
}
